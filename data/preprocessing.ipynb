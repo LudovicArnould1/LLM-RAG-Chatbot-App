{
 "cells": [
  {
   "cell_type": "code",
   "execution_count": 6,
   "metadata": {},
   "outputs": [
    {
     "name": "stdout",
     "output_type": "stream",
     "text": [
      "Saved Artificial intelligence as Artificial_intelligence.txt (82034 bytes)\n",
      "Saved Machine learning as Machine_learning.txt (56942 bytes)\n",
      "Saved Deep learning as Deep_learning.txt (54508 bytes)\n",
      "Saved Natural language processing as Natural_language_processing.txt (32698 bytes)\n",
      "Saved Python (programming language) as Python_(programming_language).txt (43016 bytes)\n",
      "Saved Data science as Data_science.txt (11209 bytes)\n",
      "Saved Big data as Big_data.txt (60483 bytes)\n",
      "Saved Neural network as Neural_network.txt (3844 bytes)\n",
      "Saved Computer vision as Computer_vision.txt (38589 bytes)\n",
      "Saved Reinforcement learning as Reinforcement_learning.txt (43673 bytes)\n",
      "Total size of downloaded articles: 423152 bytes\n"
     ]
    }
   ],
   "source": [
    "import wikipediaapi\n",
    "import os\n",
    "\n",
    "# Initialize Wikipedia API\n",
    "wiki_wiki = wikipediaapi.Wikipedia('Nice-user-agent')\n",
    "\n",
    "# List of sample articles to download\n",
    "sample_articles = [\n",
    "    \"Artificial intelligence\",\n",
    "    \"Machine learning\",\n",
    "    \"Deep learning\",\n",
    "    \"Natural language processing\",\n",
    "    \"Python (programming language)\",\n",
    "    \"Data science\",\n",
    "    \"Big data\",\n",
    "    \"Neural network\",\n",
    "    \"Computer vision\",\n",
    "    \"Reinforcement learning\"\n",
    "]\n",
    "\n",
    "# Directory to save the text files\n",
    "output_dir = \"wikipedia_articles\"\n",
    "os.makedirs(output_dir, exist_ok=True)\n",
    "\n",
    "total_size = 0\n",
    "max_size = 10 * 1024 * 1024  # 10 MB\n",
    "\n",
    "def save_article_as_txt(title, content):\n",
    "    \"\"\"Save Wikipedia article content as a .txt file.\"\"\"\n",
    "    global total_size\n",
    "    filename = f\"{title.replace(' ', '_')}.txt\"\n",
    "    filepath = os.path.join(output_dir, filename)\n",
    "    with open(filepath, \"w\", encoding=\"utf-8\") as file:\n",
    "        file.write(content)\n",
    "        total_size += os.path.getsize(filepath)\n",
    "    print(f\"Saved {title} as {filename} ({os.path.getsize(filepath)} bytes)\")\n",
    "\n",
    "\n",
    "for article_title in sample_articles:\n",
    "    page = wiki_wiki.page(article_title)\n",
    "    if page.exists():\n",
    "        save_article_as_txt(article_title, page.text)\n",
    "    else:\n",
    "        print(f\"The article '{article_title}' does not exist.\")\n",
    "\n",
    "    if total_size >= max_size:\n",
    "        print(f\"Reached the limit of {max_size} bytes. Stopping download.\")\n",
    "        break\n",
    "\n",
    "print(f\"Total size of downloaded articles: {total_size} bytes\")\n"
   ]
  },
  {
   "cell_type": "code",
   "execution_count": 7,
   "metadata": {},
   "outputs": [
    {
     "name": "stdout",
     "output_type": "stream",
     "text": [
      "--- Start of Machine_learning.txt ---\n",
      "\n",
      "Machine learning (ML) is a field of study in artificial intelligence concerned with the development and study of statistical algorithms that can learn from data and generalize to unseen data and thus perform tasks without explicit instructions. Recently, artificial neural networks have been able to surpass many previous approaches in performance.\n",
      "ML finds application in many fields, including natural language processing, computer vision, speech recognition, email filtering, agriculture, and medicine. When applied to business problems, it is known under the name predictive analytics. Although not all machine learning is statistically based, computational statistics is an important source of the field's methods.\n",
      "The mathematical foundations of ML are provided by mathematical optimization (mathematical programming) methods. Data mining is a related (parallel) field of study, focusing on exploratory data analysis (EDA) through unsupervised learning. \n",
      "From a theoretical viewpoint, probably approximately correct (PAC) learning provides a framework for describing machine learning.\n",
      "\n",
      "History\n",
      "The term machine learning was coined in 1959 by Arthur Samuel, an IBM employee and pioneer in the field of computer gaming and artificial intelligence. The synonym self-teaching computers was also used in this time period.\n",
      "Although the earliest machine learning model was introduced in the 1950s when Arthur Samuel invented a program that calculated the winning chance in checkers for each side, the history of machine learning roots back to decades of human desire and effort to study human cognitive processes. In 1949, Canadian psychologist Donald Hebb published the book The Organization of Behavior, in which he introduced a theoretical neural structure formed by certain interactions among nerve cells. Hebb's model of neurons interacting with one another set a groundwork for how AIs and machine learning algorithms work under nodes, or artificial neurons used by computers to communicate data. Other researchers who have studied human cognitive systems contributed to the modern machine learning technologies as well, including logician Walter Pitts and Warren McCulloch, who proposed the early mathematical models of neural networks to come up with algorithms that mirror human thought processes.\n",
      "By the early 1960s an experimental \"learning machine\" with punched tape memory, called Cybertron, had been developed by Raytheon Company to analyze sonar signals, electrocardiograms, and speech patterns using rudimentary reinforcement learning. It was repetitively \"trained\" by a human operator/teacher to recognize patterns and equipped with a \"goof\" button to cause it to reevaluate incorrect decisions. A representative book on research into machine learning during the 1960s was Nilsson's book on Learning Machines, dealing mostly with machine learning for pattern classification. Interest related to pattern recognition continued into the 1970s, as described by Duda and Hart in 1973. In 1981 a report was given on using teaching strategies so that an artificial neural network learns to recognize 40 characters (26 letters, 10 digits, and 4 special symbols) from a computer terminal.\n",
      "Tom M. Mitchell provided a widely quoted, more formal definition of the algorithms studied in the machine learning field: \"A computer program is said to learn from experience E with respect to some class of tasks T and performance measure P if its performance at tasks in T, as measured by P,  improves with experience E.\" This definition of the tasks in which machine learning is concerned offers a fundamentally operational definition rather than defining the field in cognitive terms. This follows Alan Turing's proposal in his paper \"Computing Machinery and Intelligence\", in which the question \"Can machines think?\" is replaced with the question \"Can machines do what we (as thinking entities) can do?\".\n",
      "\n",
      "\n",
      "--- End of preview ---\n"
     ]
    }
   ],
   "source": [
    "# Directory where the articles are stored\n",
    "output_dir = \"wikipedia_articles\"\n",
    "\n",
    "# Get the list of .txt files in the directory\n",
    "files = [f for f in os.listdir(output_dir) if f.endswith(\".txt\")]\n",
    "\n",
    "# Ensure there's at least one file\n",
    "if files:\n",
    "    first_file = files[0]\n",
    "    filepath = os.path.join(output_dir, first_file)\n",
    "\n",
    "    # Print the beginning of the first file\n",
    "    with open(filepath, \"r\", encoding=\"utf-8\") as file:\n",
    "        content = file.readlines()\n",
    "\n",
    "    # Print the first few lines\n",
    "    print(f\"--- Start of {first_file} ---\\n\")\n",
    "    print(\"\".join(content[:10]))  # Printing the first 10 lines\n",
    "    print(f\"\\n--- End of preview ---\")\n",
    "else:\n",
    "    print(\"No files found in the directory.\")"
   ]
  }
 ],
 "metadata": {
  "kernelspec": {
   "display_name": "ALwAI",
   "language": "python",
   "name": "python3"
  },
  "language_info": {
   "codemirror_mode": {
    "name": "ipython",
    "version": 3
   },
   "file_extension": ".py",
   "mimetype": "text/x-python",
   "name": "python",
   "nbconvert_exporter": "python",
   "pygments_lexer": "ipython3",
   "version": "3.12.4"
  }
 },
 "nbformat": 4,
 "nbformat_minor": 2
}
